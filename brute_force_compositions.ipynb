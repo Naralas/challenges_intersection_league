{
 "cells": [
  {
   "cell_type": "code",
   "execution_count": null,
   "id": "3ba39f05",
   "metadata": {},
   "outputs": [],
   "source": [
    "import json\n",
    "import itertools\n",
    "import sys\n",
    "from collections import defaultdict\n",
    "import numpy as np"
   ]
  },
  {
   "cell_type": "code",
   "execution_count": null,
   "id": "19524f79",
   "metadata": {},
   "outputs": [],
   "source": [
    "challenges = json.load(open(\"static/challenges.json\"))\n",
    "\n",
    "for c in challenges:\n",
    "    c[\"champions\"] = set(c[\"champions\"])\n",
    "    c[\"qte\"] = int(c[\"qte\"])\n",
    "    \n",
    "champions = set()\n",
    "for c in challenges:\n",
    "    champions |= c[\"champions\"]\n",
    "    \n",
    "print(len(champions))\n",
    "\n",
    "challenges_by_champions = defaultdict(list)\n",
    "for challenge in challenges:\n",
    "    for champion in challenge[\"champions\"]:\n",
    "        challenges_by_champions[champion].append(challenge[\"challenge_name\"])\n",
    "challenges_by_champions = dict(challenges_by_champions)\n",
    "\n",
    "champions_by_challenge = {}\n",
    "for challenge in challenges:\n",
    "    champions_by_challenge[challenge[\"challenge_name\"]] = challenge[\"champions\"]\n",
    "\n",
    "factions = {challenge[\"challenge_name\"] for challenge in challenges if challenge[\"qte\"] == 5}\n",
    "synergies = {challenge[\"challenge_name\"] for challenge in challenges if challenge[\"qte\"] == 3}\n",
    "\n",
    "print(factions)"
   ]
  },
  {
   "cell_type": "code",
   "execution_count": null,
   "id": "dac754de",
   "metadata": {},
   "outputs": [],
   "source": [
    "def find_challenges(comp):\n",
    "    chall = set()\n",
    "    for c in challenges:\n",
    "        if len(c[\"champions\"].intersection(comp)) >= c[\"qte\"]:\n",
    "            chall.add(c[\"challenge_name\"])\n",
    "    return chall\n",
    "\n",
    "\n",
    "find_challenges(set([\"Ahri\", \"Akali\", \"Shen\", \"Yasuo\", \"Zed\"]))"
   ]
  },
  {
   "cell_type": "code",
   "execution_count": null,
   "id": "359f0b7a",
   "metadata": {},
   "outputs": [],
   "source": [
    "def find_comp(champions_, threshold_min=0, threshold_max=sys.maxsize, max_depth=1e7):\n",
    "    # sort them by number of challenges to find good match first\n",
    "    champions_ = list(champions_)\n",
    "    champions_.sort(key=lambda c: -len(challenges_by_champions[c]))\n",
    "    \n",
    "    # iterate over all champion combinations\n",
    "    i = 0\n",
    "    for comp in itertools.combinations(champions_, 5):\n",
    "        comp_challenges = find_challenges(set(comp))\n",
    "        if threshold_min <= len(comp_challenges) <= threshold_max:\n",
    "            yield comp, comp_challenges\n",
    "\n",
    "        if i > max_depth:\n",
    "            return\n",
    "        i+=1"
   ]
  },
  {
   "cell_type": "code",
   "execution_count": null,
   "id": "fd9beefb",
   "metadata": {},
   "outputs": [],
   "source": [
    "def find_comp_randomly(champions_, alpha=3, max_depth=1e8):\n",
    "    champs = list(champions_)\n",
    "    a = np.array(range(len(champs)))\n",
    "    \n",
    "#     p = np.ones(shape=(len(champs),))\n",
    "    p = np.array([len(challenges_by_champions[c]) ** alpha for c in champs])\n",
    "    p = p/p.sum()\n",
    "    \n",
    "    for i in range(int(max_depth)):\n",
    "        values = np.random.choice(a, size=5, replace=False, p=p)\n",
    "        comp = [champs[v] for v in values]\n",
    "        comp_challenges = find_challenges(set(comp))\n",
    "        yield comp, comp_challenges"
   ]
  },
  {
   "cell_type": "code",
   "execution_count": null,
   "id": "f837fad3",
   "metadata": {},
   "outputs": [],
   "source": [
    "# find best comp by faction\n",
    "factions_comps = defaultdict(list)\n",
    "\n",
    "for faction in factions:\n",
    "    c = champions_by_challenge[faction]\n",
    "    comps = []\n",
    "    for comp, comp_challenges in find_comp(c, threshold_min=2):\n",
    "        l = comp, comp_challenges\n",
    "        comps.append(l)\n",
    "    \n",
    "    comps.sort(key=lambda l: -len(l[-1]))\n",
    "    \n",
    "    best_comp_n = None\n",
    "    for comp, comp_challenges in comps:\n",
    "        n = len(comp_challenges)\n",
    "        if best_comp_n is None:\n",
    "            best_comp_n = n\n",
    "        \n",
    "        factions_comps[faction].append((comp, list(comp_challenges)))\n",
    "\n",
    "    factions_comps[faction].sort(key=lambda c: -len(c[-1]))\n",
    "\n",
    "factions_comps = dict(factions_comps)\n",
    "\n",
    "for f, v in factions_comps.items():\n",
    "    print(f, len(v))"
   ]
  },
  {
   "cell_type": "code",
   "execution_count": null,
   "id": "fab19a31",
   "metadata": {},
   "outputs": [],
   "source": [
    "# # find best comps overall\n",
    "# comps_ = defaultdict(list)\n",
    "\n",
    "# for comp, comp_challenges in find_comp(champions, 7, max_depth=1e8):\n",
    "#     key = f\"Best compositions ({len(comp_challenges)} challenges)\"\n",
    "#     if key not in comps_:\n",
    "#         comps_[key] = []\n",
    "#     comps_[key].append((comp, list(comp_challenges)))\n",
    "\n",
    "# comps_ = dict(comps_)\n",
    "\n",
    "# for f, v in comps_.items():\n",
    "#     print(f, len(v))"
   ]
  },
  {
   "cell_type": "code",
   "execution_count": null,
   "id": "007dcf85",
   "metadata": {},
   "outputs": [],
   "source": [
    "comp_found = set()\n",
    "comps_ = defaultdict(list)\n",
    "\n",
    "\n",
    "for comp, comp_challenges in find_comp_randomly(champions, alpha=3, max_depth=1e7):\n",
    "    if len(comp_challenges) <= 6:\n",
    "        continue\n",
    "    \n",
    "    comp_str = str(sorted(list(comp)))\n",
    "    if comp_str not in comp_found:\n",
    "        comp_found.add(comp_str)\n",
    "        key = f\"Best compositions ({len(comp_challenges)} challenges)\"\n",
    "        comps_[key].append((comp, list(comp_challenges)))"
   ]
  },
  {
   "cell_type": "code",
   "execution_count": null,
   "id": "0d56b7d5",
   "metadata": {},
   "outputs": [],
   "source": [
    "for k, v in comps_.items():\n",
    "    print(k, len(v))"
   ]
  },
  {
   "cell_type": "code",
   "execution_count": null,
   "id": "f973c7da",
   "metadata": {},
   "outputs": [],
   "source": [
    "json.dump(factions_comps | comps_, open(\"static/compositions.json\", \"w\"))"
   ]
  },
  {
   "cell_type": "code",
   "execution_count": null,
   "id": "92d81b6a",
   "metadata": {},
   "outputs": [],
   "source": []
  }
 ],
 "metadata": {
  "kernelspec": {
   "display_name": "Python 3.10.2 64-bit",
   "language": "python",
   "name": "python3"
  },
  "language_info": {
   "codemirror_mode": {
    "name": "ipython",
    "version": 3
   },
   "file_extension": ".py",
   "mimetype": "text/x-python",
   "name": "python",
   "nbconvert_exporter": "python",
   "pygments_lexer": "ipython3",
   "version": "3.10.2"
  },
  "vscode": {
   "interpreter": {
    "hash": "f30c937b6abe364228d7429c1d0c7a31858aa0c195e6a804665f69f0c413ac39"
   }
  }
 },
 "nbformat": 4,
 "nbformat_minor": 5
}
